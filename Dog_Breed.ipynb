{
 "cells": [
  {
   "cell_type": "code",
   "execution_count": 3,
   "id": "6c0056e7-a143-4f55-8119-ad119a1bb54c",
   "metadata": {},
   "outputs": [],
   "source": [
    "import pandas as pd\n",
    "import os\n",
    "from sklearn.model_selection import train_test_split\n",
    "from tensorflow.keras.preprocessing.image import ImageDataGenerator\n",
    "from tensorflow.keras import layers, models\n",
    "from tensorflow.keras.optimizers import Adam\n"
   ]
  },
  {
   "cell_type": "code",
   "execution_count": 4,
   "id": "12afef8d-1b94-4fd3-b7d4-ebdfd17b4bef",
   "metadata": {},
   "outputs": [],
   "source": [
    "train_dir = \"file location\"\n",
    "labels_file = \"file location\"\n"
   ]
  },
  {
   "cell_type": "code",
   "execution_count": 6,
   "id": "11211482-23fa-470f-85bd-0af244a6b537",
   "metadata": {},
   "outputs": [],
   "source": [
    "labels_df = pd.read_csv(labels_file)\n",
    "labels_dict = dict(zip(labels_df.id, labels_df.breed))\n"
   ]
  },
  {
   "cell_type": "code",
   "execution_count": 7,
   "id": "3664e0fe-a966-4928-a292-eb5482b28173",
   "metadata": {},
   "outputs": [],
   "source": [
    "image_files = os.listdir(train_dir)\n",
    "image_paths = []\n",
    "labels = []\n",
    "\n",
    "for image_file in image_files:\n",
    "    image_path = os.path.join(train_dir, image_file)\n",
    "    image_paths.append(image_path)\n",
    "    image_id = os.path.splitext(image_file)[0]\n",
    "    labels.append(labels_dict[image_id])\n"
   ]
  },
  {
   "cell_type": "code",
   "execution_count": 8,
   "id": "2de83edf-eb5b-419f-a418-a22b9c51bf4e",
   "metadata": {},
   "outputs": [],
   "source": [
    "train_image_paths, val_image_paths, train_labels, val_labels = train_test_split(image_paths, labels, test_size=0.2, random_state=42)\n"
   ]
  },
  {
   "cell_type": "code",
   "execution_count": 9,
   "id": "9923ae83-a31e-493c-a72c-140f29e5fc5e",
   "metadata": {},
   "outputs": [
    {
     "name": "stdout",
     "output_type": "stream",
     "text": [
      "Found 8177 validated image filenames belonging to 120 classes.\n",
      "Found 2045 validated image filenames belonging to 120 classes.\n"
     ]
    }
   ],
   "source": [
    "batch_size = 32\n",
    "\n",
    "train_datagen = ImageDataGenerator(\n",
    "    rescale=1./255,\n",
    "    shear_range=0.2,\n",
    "    zoom_range=0.2,\n",
    "    horizontal_flip=True\n",
    ")\n",
    "\n",
    "val_datagen = ImageDataGenerator(rescale=1./255)\n",
    "\n",
    "train_generator = train_datagen.flow_from_dataframe(\n",
    "    dataframe=pd.DataFrame({\"filename\": train_image_paths, \"class\": train_labels}),\n",
    "    directory=None,\n",
    "    x_col=\"filename\",\n",
    "    y_col=\"class\",\n",
    "    target_size=(224, 224),\n",
    "    batch_size=batch_size,\n",
    "    class_mode=\"categorical\",\n",
    "    shuffle=True\n",
    ")\n",
    "\n",
    "val_generator = val_datagen.flow_from_dataframe(\n",
    "    dataframe=pd.DataFrame({\"filename\": val_image_paths, \"class\": val_labels}),\n",
    "    directory=None,\n",
    "    x_col=\"filename\",\n",
    "    y_col=\"class\",\n",
    "    target_size=(224, 224),\n",
    "    batch_size=batch_size,\n",
    "    class_mode=\"categorical\",\n",
    "    shuffle=False\n",
    ")\n"
   ]
  },
  {
   "cell_type": "code",
   "execution_count": 10,
   "id": "4be1c0e4-8aa7-4f84-8339-9ce75de02d96",
   "metadata": {},
   "outputs": [],
   "source": [
    "model = models.Sequential([\n",
    "    layers.Conv2D(32, (3, 3), activation='relu', input_shape=(224, 224, 3)),\n",
    "    layers.MaxPooling2D((2, 2)),\n",
    "    layers.Conv2D(64, (3, 3), activation='relu'),\n",
    "    layers.MaxPooling2D((2, 2)),\n",
    "    layers.Conv2D(128, (3, 3), activation='relu'),\n",
    "    layers.MaxPooling2D((2, 2)),\n",
    "    layers.Conv2D(128, (3, 3), activation='relu'),\n",
    "    layers.MaxPooling2D((2, 2)),\n",
    "    layers.Flatten(),\n",
    "    layers.Dense(512, activation='relu'),\n",
    "    layers.Dropout(0.5),\n",
    "    layers.Dense(len(labels_df['breed'].unique()), activation='softmax')\n",
    "])\n"
   ]
  },
  {
   "cell_type": "code",
   "execution_count": 11,
   "id": "6cf2a4f0-5895-4273-a79a-f7dc088e6def",
   "metadata": {},
   "outputs": [],
   "source": [
    "optimizer = Adam(learning_rate=0.0001)\n",
    "\n",
    "model.compile(optimizer=optimizer, loss='categorical_crossentropy', metrics=['accuracy'])\n"
   ]
  },
  {
   "cell_type": "code",
   "execution_count": 12,
   "id": "0e7fe0e1-f46d-465c-8ba3-01c9b58efae4",
   "metadata": {},
   "outputs": [
    {
     "name": "stdout",
     "output_type": "stream",
     "text": [
      "Epoch 1/2\n",
      "256/256 [==============================] - 258s 992ms/step - loss: 4.7855 - accuracy: 0.0111 - val_loss: 4.7679 - val_accuracy: 0.0152\n",
      "Epoch 2/2\n",
      "256/256 [==============================] - 187s 730ms/step - loss: 4.7220 - accuracy: 0.0197 - val_loss: 4.6472 - val_accuracy: 0.0230\n"
     ]
    }
   ],
   "source": [
    "epochs = 2\n",
    "history = model.fit(train_generator, epochs=epochs, validation_data=val_generator)\n"
   ]
  },
  {
   "cell_type": "code",
   "execution_count": 13,
   "id": "5d9833d9-9daf-4907-bdc5-a656478fe120",
   "metadata": {},
   "outputs": [
    {
     "name": "stdout",
     "output_type": "stream",
     "text": [
      "64/64 [==============================] - 10s 157ms/step - loss: 4.6472 - accuracy: 0.0230\n",
      "Validation Loss: 4.647188186645508\n",
      "Validation Accuracy: 0.0229828841984272\n"
     ]
    }
   ],
   "source": [
    "# Evaluate the model on the validation set\n",
    "loss, accuracy = model.evaluate(val_generator)\n",
    "print(\"Validation Loss:\", loss)\n",
    "print(\"Validation Accuracy:\", accuracy)\n"
   ]
  },
  {
   "cell_type": "code",
   "execution_count": 14,
   "id": "65498051-8655-49c2-b08e-f76b28d3dd60",
   "metadata": {},
   "outputs": [],
   "source": [
    "# Save the model\n",
    "model.save('dog_breed_model.h5')\n"
   ]
  }
 ],
 "metadata": {
  "kernelspec": {
   "display_name": "Python 3 (ipykernel)",
   "language": "python",
   "name": "python3"
  },
  "language_info": {
   "codemirror_mode": {
    "name": "ipython",
    "version": 3
   },
   "file_extension": ".py",
   "mimetype": "text/x-python",
   "name": "python",
   "nbconvert_exporter": "python",
   "pygments_lexer": "ipython3",
   "version": "3.10.13"
  }
 },
 "nbformat": 4,
 "nbformat_minor": 5
}
