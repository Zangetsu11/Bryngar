{
 "cells": [
  {
   "cell_type": "code",
   "execution_count": 10,
   "id": "f3fe3a97-0176-40e9-8991-960ab666b47b",
   "metadata": {},
   "outputs": [
    {
     "name": "stdout",
     "output_type": "stream",
     "text": [
      "True\n"
     ]
    }
   ],
   "source": [
    "import tensorflow as tf\n",
    "physical_device = tf.config.experimental.list_physical_devices('GPU')\n",
    "print(tf.config.experimental.get_memory_growth(physical_device[0]))\n"
   ]
  },
  {
   "cell_type": "code",
   "execution_count": 2,
   "id": "41578143-6116-4550-8aba-3c78233c1a5e",
   "metadata": {},
   "outputs": [],
   "source": [
    "import pandas as pd\n",
    "import os\n",
    "from sklearn.model_selection import train_test_split\n",
    "\n",
    "# Set the directory paths\n",
    "data_dir = \"file location\"\n",
    "labels_file = \"file location\"\n",
    "\n",
    "# Load labels from the CSV file\n",
    "labels_df = pd.read_csv(labels_file)\n",
    "\n",
    "# Create a dictionary mapping image filenames to their respective breed labels\n",
    "labels_dict = dict(zip(labels_df.id, labels_df.breed))\n",
    "\n",
    "# Get the list of image filenames\n",
    "image_files = os.listdir(data_dir)\n",
    "\n",
    "# Prepare lists to store image paths and corresponding labels\n",
    "image_paths = []\n",
    "labels = []\n",
    "\n",
    "# Iterate through image files and populate image paths and labels lists\n",
    "for image_file in image_files:\n",
    "    image_path = os.path.join(data_dir, image_file)\n",
    "    image_paths.append(image_path)\n",
    "    image_id = os.path.splitext(image_file)[0]\n",
    "    labels.append(labels_dict[image_id])\n",
    "\n",
    "# Split the data into training and validation sets\n",
    "train_image_paths, val_image_paths, train_labels, val_labels = train_test_split(image_paths, labels, test_size=0.2, random_state=42)\n"
   ]
  },
  {
   "cell_type": "code",
   "execution_count": 3,
   "id": "447c1dee-9da7-4913-ab3f-b49c7b653f93",
   "metadata": {},
   "outputs": [
    {
     "name": "stdout",
     "output_type": "stream",
     "text": [
      "Found 8177 validated image filenames belonging to 120 classes.\n",
      "Found 2045 validated image filenames belonging to 120 classes.\n"
     ]
    }
   ],
   "source": [
    "from tensorflow.keras.preprocessing.image import ImageDataGenerator\n",
    "from tensorflow.keras.applications import ResNet50\n",
    "from tensorflow.keras.layers import Dense, GlobalAveragePooling2D, Dropout\n",
    "from tensorflow.keras.models import Model\n",
    "from tensorflow.keras.optimizers import Adam\n",
    "\n",
    "# Data augmentation and normalization for training set\n",
    "train_datagen = ImageDataGenerator(\n",
    "    rescale=1./255,\n",
    "    shear_range=0.2,\n",
    "    zoom_range=0.2,\n",
    "    horizontal_flip=True\n",
    ")\n",
    "\n",
    "# Data normalization for validation set (no augmentation)\n",
    "val_datagen = ImageDataGenerator(rescale=1./255)\n",
    "\n",
    "# Create data generators for training and validation sets\n",
    "batch_size = 32\n",
    "train_generator = train_datagen.flow_from_dataframe(\n",
    "    dataframe=pd.DataFrame({\"filename\": train_image_paths, \"class\": train_labels}),\n",
    "    directory=None,\n",
    "    x_col=\"filename\",\n",
    "    y_col=\"class\",\n",
    "    target_size=(224, 224),\n",
    "    batch_size=batch_size,\n",
    "    class_mode=\"categorical\",\n",
    "    shuffle=True\n",
    ")\n",
    "\n",
    "val_generator = val_datagen.flow_from_dataframe(\n",
    "    dataframe=pd.DataFrame({\"filename\": val_image_paths, \"class\": val_labels}),\n",
    "    directory=None,\n",
    "    x_col=\"filename\",\n",
    "    y_col=\"class\",\n",
    "    target_size=(224, 224),\n",
    "    batch_size=batch_size,\n",
    "    class_mode=\"categorical\",\n",
    "    shuffle=False\n",
    ")\n",
    "\n",
    "# Load the pre-trained ResNet50 model\n",
    "base_model = ResNet50(weights='imagenet', include_top=False, input_shape=(224, 224, 3))\n",
    "\n",
    "# Freeze the layers in the base model\n",
    "for layer in base_model.layers:\n",
    "    layer.trainable = False\n",
    "\n",
    "# Add custom classification head\n",
    "x = base_model.output\n",
    "x = GlobalAveragePooling2D()(x)\n",
    "x = Dense(512, activation='relu')(x)\n",
    "x = Dropout(0.5)(x)  # Add dropout for regularization\n",
    "predictions = Dense(len(labels_df['breed'].unique()), activation='softmax')(x)\n",
    "\n",
    "# Combine the base model with custom classification head\n",
    "model = Model(inputs=base_model.input, outputs=predictions)\n",
    "\n",
    "# Adjust learning rate\n",
    "optimizer = Adam(learning_rate=0.0001)\n",
    "\n",
    "# Compile the model\n",
    "model.compile(optimizer=optimizer, loss='categorical_crossentropy', metrics=['accuracy'])\n"
   ]
  },
  {
   "cell_type": "code",
   "execution_count": 4,
   "id": "0f603427-6b78-4fa7-9d77-582fa7b29951",
   "metadata": {},
   "outputs": [
    {
     "name": "stdout",
     "output_type": "stream",
     "text": [
      "Epoch 1/2\n",
      "256/256 [==============================] - 352s 1s/step - loss: 4.9067 - accuracy: 0.0065 - val_loss: 4.7811 - val_accuracy: 0.0147\n",
      "Epoch 2/2\n",
      "256/256 [==============================] - 295s 1s/step - loss: 4.7923 - accuracy: 0.0114 - val_loss: 4.7818 - val_accuracy: 0.0093\n"
     ]
    }
   ],
   "source": [
    "# Train the model\n",
    "epochs = 2\n",
    "history = model.fit(train_generator, epochs=epochs, validation_data=val_generator)\n"
   ]
  },
  {
   "cell_type": "code",
   "execution_count": 5,
   "id": "de1caf28-b4a2-411f-a8e1-f542cef82133",
   "metadata": {},
   "outputs": [
    {
     "name": "stdout",
     "output_type": "stream",
     "text": [
      "64/64 [==============================] - 51s 794ms/step - loss: 4.7818 - accuracy: 0.0093\n",
      "Validation Loss: 4.78176212310791\n",
      "Validation Accuracy: 0.009290953166782856\n"
     ]
    }
   ],
   "source": [
    "# Evaluate the model on the validation set\n",
    "loss, accuracy = model.evaluate(val_generator)\n",
    "print(\"Validation Loss:\", loss)\n",
    "print(\"Validation Accuracy:\", accuracy)\n"
   ]
  },
  {
   "cell_type": "code",
   "execution_count": 10,
   "id": "5e97eb99-c218-4aee-aa33-34c6a204592d",
   "metadata": {},
   "outputs": [],
   "source": [
    "# Save the model\n",
    "model.save('dog_breed_model_resnet50.h5')\n"
   ]
  }
 ],
 "metadata": {
  "kernelspec": {
   "display_name": "Python 3 (ipykernel)",
   "language": "python",
   "name": "python3"
  },
  "language_info": {
   "codemirror_mode": {
    "name": "ipython",
    "version": 3
   },
   "file_extension": ".py",
   "mimetype": "text/x-python",
   "name": "python",
   "nbconvert_exporter": "python",
   "pygments_lexer": "ipython3",
   "version": "3.10.13"
  }
 },
 "nbformat": 4,
 "nbformat_minor": 5
}
