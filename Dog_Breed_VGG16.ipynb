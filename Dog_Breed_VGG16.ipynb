{
 "cells": [
  {
   "cell_type": "code",
   "execution_count": 22,
   "id": "e48fbc3c-842c-4aab-aaba-fae4c5c3f687",
   "metadata": {},
   "outputs": [],
   "source": [
    "import pandas as pd\n",
    "import os\n",
    "from sklearn.model_selection import train_test_split\n"
   ]
  },
  {
   "cell_type": "code",
   "execution_count": 23,
   "id": "f59c0428-9778-4a3a-a590-db9cc6bca560",
   "metadata": {},
   "outputs": [],
   "source": [
    "# Set the directory paths\n",
    "data_dir = \"file location\"\n",
    "labels_file = \"file location\"\n"
   ]
  },
  {
   "cell_type": "code",
   "execution_count": 24,
   "id": "1928e12c-3dcf-4590-9b4d-74ecf0a5a877",
   "metadata": {},
   "outputs": [],
   "source": [
    "# Load labels from the CSV file\n",
    "labels_df = pd.read_csv(labels_file)\n",
    "\n",
    "# Create a dictionary mapping image filenames to their respective breed labels\n",
    "labels_dict = dict(zip(labels_df.id, labels_df.breed))\n"
   ]
  },
  {
   "cell_type": "code",
   "execution_count": 25,
   "id": "5284bfb0-149e-4786-8823-d9a95d44ce08",
   "metadata": {},
   "outputs": [],
   "source": [
    "# Get the list of image filenames\n",
    "image_files = os.listdir(data_dir)\n",
    "\n",
    "# Prepare lists to store image paths and corresponding labels\n",
    "image_paths = []\n",
    "labels = []\n",
    "\n",
    "# Iterate through image files and populate image paths and labels lists\n",
    "for image_file in image_files:\n",
    "    image_path = os.path.join(data_dir, image_file)\n",
    "    image_paths.append(image_path)\n",
    "    image_id = os.path.splitext(image_file)[0]\n",
    "    labels.append(labels_dict[image_id])\n"
   ]
  },
  {
   "cell_type": "code",
   "execution_count": 26,
   "id": "6e0ad062-9261-4017-a716-24824c55356e",
   "metadata": {},
   "outputs": [],
   "source": [
    "# Split the data into training and validation sets\n",
    "train_image_paths, val_image_paths, train_labels, val_labels = train_test_split(image_paths, labels, test_size=0.2, random_state=42)\n"
   ]
  },
  {
   "cell_type": "code",
   "execution_count": 27,
   "id": "72379c84-e321-4ac8-afc3-5dadd5b3b187",
   "metadata": {},
   "outputs": [
    {
     "name": "stdout",
     "output_type": "stream",
     "text": [
      "Found 8177 validated image filenames belonging to 120 classes.\n",
      "Found 2045 validated image filenames belonging to 120 classes.\n",
      "Downloading data from https://storage.googleapis.com/tensorflow/keras-applications/vgg16/vgg16_weights_tf_dim_ordering_tf_kernels_notop.h5\n",
      "58889256/58889256 [==============================] - 5s 0us/step\n"
     ]
    }
   ],
   "source": [
    "from tensorflow.keras.preprocessing.image import ImageDataGenerator\n",
    "from tensorflow.keras.applications import VGG16\n",
    "from tensorflow.keras.layers import Dense, GlobalAveragePooling2D, Dropout\n",
    "from tensorflow.keras.models import Model\n",
    "from tensorflow.keras.optimizers import Adam\n",
    "\n",
    "# Data augmentation and normalization for training set\n",
    "train_datagen = ImageDataGenerator(\n",
    "    rescale=1./255,\n",
    "    shear_range=0.2,\n",
    "    zoom_range=0.2,\n",
    "    horizontal_flip=True\n",
    ")\n",
    "\n",
    "# Data normalization for validation set (no augmentation)\n",
    "val_datagen = ImageDataGenerator(rescale=1./255)\n",
    "\n",
    "# Create data generators for training and validation sets\n",
    "batch_size = 32\n",
    "train_generator = train_datagen.flow_from_dataframe(\n",
    "    dataframe=pd.DataFrame({\"filename\": train_image_paths, \"class\": train_labels}),\n",
    "    directory=None,\n",
    "    x_col=\"filename\",\n",
    "    y_col=\"class\",\n",
    "    target_size=(224, 224),\n",
    "    batch_size=batch_size,\n",
    "    class_mode=\"categorical\",\n",
    "    shuffle=True\n",
    ")\n",
    "\n",
    "val_generator = val_datagen.flow_from_dataframe(\n",
    "    dataframe=pd.DataFrame({\"filename\": val_image_paths, \"class\": val_labels}),\n",
    "    directory=None,\n",
    "    x_col=\"filename\",\n",
    "    y_col=\"class\",\n",
    "    target_size=(224, 224),\n",
    "    batch_size=batch_size,\n",
    "    class_mode=\"categorical\",\n",
    "    shuffle=False\n",
    ")\n",
    "\n",
    "# Load the pre-trained VGG16 model\n",
    "base_model = VGG16(weights='imagenet', include_top=False, input_shape=(224, 224, 3))\n",
    "\n",
    "# Freeze the layers in the base model\n",
    "for layer in base_model.layers:\n",
    "    layer.trainable = False\n",
    "\n",
    "# Add custom classification head\n",
    "x = base_model.output\n",
    "x = GlobalAveragePooling2D()(x)\n",
    "x = Dense(512, activation='relu')(x)\n",
    "x = Dropout(0.5)(x)  # Add dropout for regularization\n",
    "predictions = Dense(len(labels_df['breed'].unique()), activation='softmax')(x)\n",
    "\n",
    "# Combine the base model with custom classification head\n",
    "model = Model(inputs=base_model.input, outputs=predictions)\n",
    "\n",
    "# Adjust learning rate\n",
    "optimizer = Adam(learning_rate=0.0001)\n",
    "\n",
    "# Compile the model\n",
    "model.compile(optimizer=optimizer, loss='categorical_crossentropy', metrics=['accuracy'])\n"
   ]
  },
  {
   "cell_type": "code",
   "execution_count": 28,
   "id": "0108d96a-09e8-4f49-8f91-869cd493b4aa",
   "metadata": {},
   "outputs": [
    {
     "name": "stdout",
     "output_type": "stream",
     "text": [
      "Epoch 1/2\n",
      "256/256 [==============================] - 586s 2s/step - loss: 4.8785 - accuracy: 0.0114 - val_loss: 4.7608 - val_accuracy: 0.0176\n",
      "Epoch 2/2\n",
      "256/256 [==============================] - 568s 2s/step - loss: 4.7678 - accuracy: 0.0188 - val_loss: 4.7239 - val_accuracy: 0.0244\n"
     ]
    }
   ],
   "source": [
    "# Train the model\n",
    "epochs = 2\n",
    "history = model.fit(train_generator, epochs=epochs, validation_data=val_generator)\n"
   ]
  },
  {
   "cell_type": "code",
   "execution_count": 29,
   "id": "e3e1365a-d108-4955-8a3d-3b1861e5cf72",
   "metadata": {},
   "outputs": [
    {
     "name": "stdout",
     "output_type": "stream",
     "text": [
      "64/64 [==============================] - 108s 2s/step - loss: 4.7239 - accuracy: 0.0244\n",
      "Validation Loss: 4.723873138427734\n",
      "Validation Accuracy: 0.024449877440929413\n"
     ]
    }
   ],
   "source": [
    "# Evaluate the model on the validation set\n",
    "loss, accuracy = model.evaluate(val_generator)\n",
    "print(\"Validation Loss:\", loss)\n",
    "print(\"Validation Accuracy:\", accuracy)\n"
   ]
  },
  {
   "cell_type": "code",
   "execution_count": 30,
   "id": "43d7169a-03ae-4e64-833d-1d08a273780e",
   "metadata": {},
   "outputs": [],
   "source": [
    "# Save the model\n",
    "model.save('dog_breed_model_vgg16.h5')\n"
   ]
  }
 ],
 "metadata": {
  "kernelspec": {
   "display_name": "Python 3 (ipykernel)",
   "language": "python",
   "name": "python3"
  },
  "language_info": {
   "codemirror_mode": {
    "name": "ipython",
    "version": 3
   },
   "file_extension": ".py",
   "mimetype": "text/x-python",
   "name": "python",
   "nbconvert_exporter": "python",
   "pygments_lexer": "ipython3",
   "version": "3.10.13"
  }
 },
 "nbformat": 4,
 "nbformat_minor": 5
}
